{
 "cells": [
  {
   "cell_type": "code",
   "execution_count": 1,
   "id": "2e8e6783",
   "metadata": {},
   "outputs": [],
   "source": [
    "exp = \"5 * 3 + 12 / ( 4 + 3 * 7 )\"\n",
    "exp_list = exp.split()\n",
    "precedence = {'+':1, '-':1, '*':2, '/':2, '^':3}"
   ]
  },
  {
   "cell_type": "code",
   "execution_count": 3,
   "id": "6a60d6d5",
   "metadata": {},
   "outputs": [
    {
     "data": {
      "text/plain": [
       "['5', '*', '3', '+', '12', '/', '(', '4', '+', '3', '*', '7', ')']"
      ]
     },
     "execution_count": 3,
     "metadata": {},
     "output_type": "execute_result"
    }
   ],
   "source": [
    "exp_list"
   ]
  },
  {
   "cell_type": "code",
   "execution_count": 7,
   "id": "91209749",
   "metadata": {},
   "outputs": [],
   "source": [
    "output_list = []\n",
    "pregress_stack = []\n",
    "\n",
    "def infix_to_postfix(expression): #input expression\n",
    "    \n",
    "    OPERATORS = set(['+', '-', '*', '/', '(', ')', '^'])  # set of operators\n",
    "    PRIORITY = {'+':1, '-':1, '*':2, '/':2, '^':3} # dictionary having priorities \n",
    "\n",
    "    stack = [] # initially stack empty\n",
    "    output = '' # initially output empty\n",
    "\n",
    "\n",
    "    for ch in expression:\n",
    "        print(ch)\n",
    "        if ch not in OPERATORS:  \n",
    "            output+= ch\n",
    "        elif ch=='(': \n",
    "            stack.append('(')\n",
    "        elif ch==')':\n",
    "            while stack and stack[-1]!= '(':\n",
    "                output += stack.pop()\n",
    "            stack.pop()\n",
    "        else:\n",
    "            while stack and stack[-1]!='(' and PRIORITY[ch]<=PRIORITY[stack[-1]]:\n",
    "                output+=stack.pop()\n",
    "            stack.append(ch)\n",
    "        print(stack)\n",
    "    while stack:\n",
    "        output+=stack.pop()\n",
    "\n",
    "    return output"
   ]
  },
  {
   "cell_type": "code",
   "execution_count": 8,
   "id": "da84239f",
   "metadata": {},
   "outputs": [
    {
     "name": "stdout",
     "output_type": "stream",
     "text": [
      "5\n",
      "*\n",
      "3\n",
      "+\n",
      "12\n",
      "/\n",
      "(\n",
      "4\n",
      "+\n",
      "3\n",
      "*\n",
      "7\n",
      ")\n",
      "['+', '/']\n"
     ]
    },
    {
     "data": {
      "text/plain": [
       "'53*12437*+/+'"
      ]
     },
     "execution_count": 8,
     "metadata": {},
     "output_type": "execute_result"
    }
   ],
   "source": [
    "exp = \"5 * 3 + 12 / ( 4 + 3 * 7 )\"\n",
    "exp_list = exp.split()\n",
    "infix_to_postfix(exp_list)"
   ]
  },
  {
   "cell_type": "code",
   "execution_count": 30,
   "id": "3d29e9ef",
   "metadata": {
    "collapsed": true
   },
   "outputs": [
    {
     "data": {
      "text/plain": [
       "'AB+CD+*'"
      ]
     },
     "execution_count": 30,
     "metadata": {},
     "output_type": "execute_result"
    }
   ],
   "source": [
    "exp = \"( A + B ) * ( C + D )\"\n",
    "exp_list = exp.split()\n",
    "infix_to_postfix(exp_list)"
   ]
  },
  {
   "cell_type": "code",
   "execution_count": 31,
   "id": "58250785",
   "metadata": {
    "collapsed": true
   },
   "outputs": [
    {
     "data": {
      "text/plain": [
       "'123*2/+'"
      ]
     },
     "execution_count": 31,
     "metadata": {},
     "output_type": "execute_result"
    }
   ],
   "source": [
    " \n",
    "exp = \"1 + 2 * 3 / 2\"\n",
    "exp_list = exp.split()\n",
    "infix_to_postfix(exp_list)"
   ]
  },
  {
   "cell_type": "code",
   "execution_count": null,
   "id": "33f9810b",
   "metadata": {
    "collapsed": true
   },
   "outputs": [],
   "source": []
  },
  {
   "cell_type": "code",
   "execution_count": null,
   "id": "19434437",
   "metadata": {
    "collapsed": true
   },
   "outputs": [],
   "source": []
  },
  {
   "cell_type": "code",
   "execution_count": null,
   "id": "6a58b6ee",
   "metadata": {
    "collapsed": true
   },
   "outputs": [],
   "source": []
  },
  {
   "cell_type": "code",
   "execution_count": null,
   "id": "6f5bbd6d",
   "metadata": {
    "collapsed": true
   },
   "outputs": [],
   "source": []
  },
  {
   "cell_type": "code",
   "execution_count": null,
   "id": "65b887c2",
   "metadata": {
    "collapsed": true
   },
   "outputs": [],
   "source": [
    "\n"
   ]
  },
  {
   "cell_type": "code",
   "execution_count": null,
   "id": "28acaf71",
   "metadata": {
    "collapsed": true
   },
   "outputs": [],
   "source": [
    "    output = \"\"\n",
    "    \n",
    "    for i in exp:\n",
    "        \n",
    "        if self.isOperand(i) == True: # check if operand add to output\n",
    "            print(i,\"~ Operand push to stack\")\n",
    "            output = output + i\n",
    "\n",
    "        # If the character is an '(', push it to stack \n",
    "        elif i  == '(':\n",
    "            self.push(i)\n",
    "            print(i,\" ~ Found ( push into stack\")\n",
    "\n",
    "        elif i == ')':  # if ')' pop till '('\n",
    "            while( self.isempty() != True and self.peek() != '('):\n",
    "                n = self.pop() \n",
    "                output = output + n\n",
    "                print(n, \"~ Operator popped from stack\")\n",
    "            if (self.isempty() != True and self.peek() != '('):\n",
    "                print(\"_________\")\n",
    "                return -1\n",
    "            else:\n",
    "                x = self.pop()\n",
    "                print(x, \"Popping and deleting (\")\n",
    "        else: \n",
    "            while(self.isempty() != True and self.notGreater(i)):\n",
    "                c = self.pop()\n",
    "                output = output + c\n",
    "                print(c,\"Operator popped after checking precedence from stack\")\n",
    "            self.push(i)\n",
    "            print(i,\"Operator pushed to stack\")"
   ]
  },
  {
   "cell_type": "code",
   "execution_count": null,
   "id": "e0dd8959",
   "metadata": {
    "collapsed": true
   },
   "outputs": [],
   "source": []
  }
 ],
 "metadata": {
  "kernelspec": {
   "display_name": "Python 3 (ipykernel)",
   "language": "python",
   "name": "python3"
  },
  "language_info": {
   "codemirror_mode": {
    "name": "ipython",
    "version": 3
   },
   "file_extension": ".py",
   "mimetype": "text/x-python",
   "name": "python",
   "nbconvert_exporter": "python",
   "pygments_lexer": "ipython3",
   "version": "3.9.6"
  }
 },
 "nbformat": 4,
 "nbformat_minor": 5
}
