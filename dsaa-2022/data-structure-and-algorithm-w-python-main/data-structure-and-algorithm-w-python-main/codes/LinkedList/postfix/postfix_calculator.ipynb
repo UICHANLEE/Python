{
 "cells": [
  {
   "cell_type": "code",
   "execution_count": null,
   "id": "785ec7b0",
   "metadata": {},
   "outputs": [],
   "source": [
    "post_fix_data = \"3 5 * 4 +\"\n",
    "elelement_list = post_fix_data.split()"
   ]
  },
  {
   "cell_type": "code",
   "execution_count": null,
   "id": "a54bdc05",
   "metadata": {},
   "outputs": [],
   "source": [
    "elelement_list"
   ]
  },
  {
   "cell_type": "code",
   "execution_count": null,
   "id": "de4190a4",
   "metadata": {},
   "outputs": [],
   "source": []
  },
  {
   "cell_type": "code",
   "execution_count": null,
   "id": "5707103e",
   "metadata": {},
   "outputs": [],
   "source": [
    "postfix_stack = []\n",
    "for element in elelement_list:\n",
    "    if element.isdigit():\n",
    "        postfix_stack.append(element)\n",
    "    else:\n",
    "        val_1 = int(postfix_stack.pop())\n",
    "        val_2 = int(postfix_stack.pop())\n",
    "        result = eval(f\"{val_1} {element} {val_2}\")\n",
    "        postfix_stack.append(result)"
   ]
  },
  {
   "cell_type": "code",
   "execution_count": null,
   "id": "8a5034d4",
   "metadata": {},
   "outputs": [],
   "source": [
    "postfix_stack"
   ]
  },
  {
   "cell_type": "code",
   "execution_count": 15,
   "id": "62d93169",
   "metadata": {},
   "outputs": [],
   "source": [
    "def postfix_calculator(postfix_exp : list):\n",
    "    postfix_stack = []\n",
    "    for element in elelement_list:\n",
    "        print(element)\n",
    "        if element.isdigit():\n",
    "            postfix_stack.append(element)\n",
    "        else:\n",
    "            val_2 = int(postfix_stack.pop())\n",
    "            val_1 = int(postfix_stack.pop())\n",
    "            result = eval(f\"{val_1} {element} {val_2}\")\n",
    "            \n",
    "            postfix_stack.append(result)\n",
    "        print(postfix_stack)\n",
    "    return postfix_stack[0]"
   ]
  },
  {
   "cell_type": "code",
   "execution_count": 16,
   "id": "0ef6ebf7",
   "metadata": {},
   "outputs": [
    {
     "data": {
      "text/plain": [
       "48"
      ]
     },
     "execution_count": 16,
     "metadata": {},
     "output_type": "execute_result"
    }
   ],
   "source": [
    "post_fix_data = \"5 3 + 8 2 - *\"\n",
    "elelement_list = post_fix_data.split()\n",
    "postfix_calculator(elelement_list)"
   ]
  },
  {
   "cell_type": "code",
   "execution_count": null,
   "id": "88a76423",
   "metadata": {},
   "outputs": [],
   "source": []
  },
  {
   "cell_type": "code",
   "execution_count": null,
   "id": "987f3074",
   "metadata": {},
   "outputs": [],
   "source": [
    "post_fix_data = \"3 5 * 4 +\"\n",
    "elelement_list = post_fix_data.split()\n",
    "postfix_calculator(elelement_list)"
   ]
  },
  {
   "cell_type": "code",
   "execution_count": null,
   "id": "c2fe92e1",
   "metadata": {},
   "outputs": [],
   "source": [
    "post_fix_data = \"10 2 8 * + 3 -\"\n",
    "elelement_list = post_fix_data.split()\n",
    "postfix_calculator(elelement_list)"
   ]
  }
 ],
 "metadata": {
  "kernelspec": {
   "display_name": "Python 3 (ipykernel)",
   "language": "python",
   "name": "python3"
  },
  "language_info": {
   "codemirror_mode": {
    "name": "ipython",
    "version": 3
   },
   "file_extension": ".py",
   "mimetype": "text/x-python",
   "name": "python",
   "nbconvert_exporter": "python",
   "pygments_lexer": "ipython3",
   "version": "3.9.6"
  }
 },
 "nbformat": 4,
 "nbformat_minor": 5
}
