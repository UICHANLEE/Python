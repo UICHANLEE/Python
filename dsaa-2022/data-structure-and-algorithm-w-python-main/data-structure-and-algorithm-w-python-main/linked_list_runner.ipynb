{
 "cells": [
  {
   "cell_type": "code",
   "execution_count": null,
   "id": "e41573cb",
   "metadata": {},
   "outputs": [],
   "source": [
    "import teamlab_ds as ds "
   ]
  },
  {
   "cell_type": "code",
   "execution_count": null,
   "id": "3f280ca5",
   "metadata": {},
   "outputs": [],
   "source": [
    "from importlib import reload  \n",
    "reload(ds)"
   ]
  },
  {
   "cell_type": "code",
   "execution_count": null,
   "id": "fbd87647",
   "metadata": {},
   "outputs": [],
   "source": [
    "my_node = ds.Node()"
   ]
  },
  {
   "cell_type": "code",
   "execution_count": null,
   "id": "925ff4e8",
   "metadata": {},
   "outputs": [],
   "source": [
    "print(my_node)"
   ]
  },
  {
   "cell_type": "code",
   "execution_count": null,
   "id": "7a8e3164",
   "metadata": {},
   "outputs": [],
   "source": [
    "my_node.data = 10"
   ]
  },
  {
   "cell_type": "code",
   "execution_count": null,
   "id": "21a1471d",
   "metadata": {},
   "outputs": [],
   "source": [
    "print(my_node)"
   ]
  },
  {
   "cell_type": "code",
   "execution_count": null,
   "id": "e7648f5f",
   "metadata": {},
   "outputs": [],
   "source": [
    "your_node = ds.Node()\n",
    "your_node.data = 100"
   ]
  },
  {
   "cell_type": "code",
   "execution_count": null,
   "id": "27bd7ad1",
   "metadata": {},
   "outputs": [],
   "source": [
    "my_node.next= your_node"
   ]
  },
  {
   "cell_type": "code",
   "execution_count": null,
   "id": "17ba3566",
   "metadata": {},
   "outputs": [],
   "source": [
    "print(your_node) "
   ]
  },
  {
   "cell_type": "code",
   "execution_count": null,
   "id": "1ba6ed57",
   "metadata": {},
   "outputs": [],
   "source": [
    "my_node.next.data"
   ]
  }
 ],
 "metadata": {
  "kernelspec": {
   "display_name": "Python 3 (ipykernel)",
   "language": "python",
   "name": "python3"
  },
  "language_info": {
   "codemirror_mode": {
    "name": "ipython",
    "version": 3
   },
   "file_extension": ".py",
   "mimetype": "text/x-python",
   "name": "python",
   "nbconvert_exporter": "python",
   "pygments_lexer": "ipython3",
   "version": "3.9.6"
  }
 },
 "nbformat": 4,
 "nbformat_minor": 5
}
