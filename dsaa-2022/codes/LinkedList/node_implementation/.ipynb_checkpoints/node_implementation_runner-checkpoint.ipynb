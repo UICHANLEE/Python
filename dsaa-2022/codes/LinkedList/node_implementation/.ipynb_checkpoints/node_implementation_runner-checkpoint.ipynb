{
 "cells": [
  {
   "cell_type": "code",
   "execution_count": 2,
   "id": "a475f1f4",
   "metadata": {},
   "outputs": [],
   "source": [
    "import teamlab_ds as ds"
   ]
  },
  {
   "cell_type": "code",
   "execution_count": 3,
   "id": "7d7fd7c8",
   "metadata": {},
   "outputs": [],
   "source": [
    "a = ds.Node(2)\n",
    "b = ds.Node(52)\n",
    "c = ds.Node(18)"
   ]
  },
  {
   "cell_type": "code",
   "execution_count": 5,
   "id": "445f628b",
   "metadata": {},
   "outputs": [
    {
     "name": "stdout",
     "output_type": "stream",
     "text": [
      "<teamlab_ds.Node object at 0x000001FF210931C8>\n",
      "2\n"
     ]
    }
   ],
   "source": [
    "print(a)\n",
    "print(a.data)"
   ]
  },
  {
   "cell_type": "code",
   "execution_count": null,
   "id": "fc440a67",
   "metadata": {},
   "outputs": [],
   "source": []
  },
  {
   "cell_type": "code",
   "execution_count": null,
   "id": "962bf165",
   "metadata": {},
   "outputs": [],
   "source": []
  }
 ],
 "metadata": {
  "kernelspec": {
   "display_name": "Python 3 (ipykernel)",
   "language": "python",
   "name": "python3"
  },
  "language_info": {
   "codemirror_mode": {
    "name": "ipython",
    "version": 3
   },
   "file_extension": ".py",
   "mimetype": "text/x-python",
   "name": "python",
   "nbconvert_exporter": "python",
   "pygments_lexer": "ipython3",
   "version": "3.7.13"
  }
 },
 "nbformat": 4,
 "nbformat_minor": 5
}
